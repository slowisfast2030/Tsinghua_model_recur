{
 "cells": [
  {
   "cell_type": "code",
   "execution_count": 1,
   "id": "6748a12d",
   "metadata": {},
   "outputs": [
    {
     "name": "stdout",
     "output_type": "stream",
     "text": [
      "all is well\n"
     ]
    }
   ],
   "source": [
    "import pandas as pd\n",
    "import numpy as np\n",
    "import tempfile\n",
    "import tensorflow as tf\n",
    "\n",
    "# linus 下面这个包是不是没用？\n",
    "# from six.moves import urllib\n",
    "\n",
    "import pandas as pd\n",
    "\n",
    "\n",
    "print('all is well')"
   ]
  },
  {
   "cell_type": "code",
   "execution_count": 2,
   "id": "42e4ed67",
   "metadata": {},
   "outputs": [],
   "source": [
    "data1 = pd.read_pickle('dataV0623.pkl') #这里是数据\n",
    "train0 = data1.loc[0:11999] #如果把所有训练集放进去一起训练会爆显存那就分一下\n",
    "train1 = data1.loc[12000:23999]\n",
    "train = data1.loc[0:51889]\n",
    "test = data1.loc[51890:64861]"
   ]
  },
  {
   "cell_type": "code",
   "execution_count": 3,
   "id": "5a210c77",
   "metadata": {},
   "outputs": [
    {
     "data": {
      "text/plain": [
       "Index(['sex', 'age', 'currentAddress', 'currentPayment', 'postJobName',\n",
       "       'recommendReason', 'workLonger', 'eduBackground', 'cvkeywords', 'major',\n",
       "       'jobTracks', 'keyU', 'recommended', 'title', 'location', 'jdkeywords',\n",
       "       'minEduBackground', 'minWorkYearReq', 'minAnnualSalary',\n",
       "       'maxWorkYearReq', 'description', 'requirement', 'phase', 'scale',\n",
       "       'industry', 'benefit', 'label', 'EqualAddress', 'EqualJob', 'Cvs',\n",
       "       'Jds', 'EqualWord', 'Cvsnum', 'Jdsnum', 'FitEdu'],\n",
       "      dtype='object')"
      ]
     },
     "execution_count": 3,
     "metadata": {},
     "output_type": "execute_result"
    }
   ],
   "source": [
    "data1.columns"
   ]
  },
  {
   "cell_type": "code",
   "execution_count": 4,
   "id": "32476be3",
   "metadata": {},
   "outputs": [
    {
     "data": {
      "text/plain": [
       "(64862, 35)"
      ]
     },
     "execution_count": 4,
     "metadata": {},
     "output_type": "execute_result"
    }
   ],
   "source": [
    "data1.shape"
   ]
  },
  {
   "cell_type": "code",
   "execution_count": 33,
   "id": "447a3e32",
   "metadata": {},
   "outputs": [
    {
     "data": {
      "text/plain": [
       "0        [-1.8090081402864413, 0.3290084377321029, -0.4...\n",
       "1        [-1.8090081402864413, 0.3290084377321029, -0.4...\n",
       "2        [-1.7793489433135383, 0.31867071284006326, -0....\n",
       "3        [-1.7793489433135383, 0.31867071284006326, -0....\n",
       "4        [-0.4294405618602598, 0.42602468109693004, -0....\n",
       "                               ...                        \n",
       "64857    [-0.7449835559970489, -1.9531118859856038, -1....\n",
       "64858    [-1.35505479333728, -0.8223091095748777, -0.85...\n",
       "64859    [-1.35505479333728, -0.8223091095748777, -0.85...\n",
       "64860    [-1.3543210178617888, 0.19608034846962594, 0.5...\n",
       "64861    [-1.3543210178617888, 0.19608034846962594, 0.5...\n",
       "Name: recommendReason, Length: 64862, dtype: object"
      ]
     },
     "execution_count": 33,
     "metadata": {},
     "output_type": "execute_result"
    }
   ],
   "source": [
    "data1['recommendReason']"
   ]
  },
  {
   "cell_type": "code",
   "execution_count": 27,
   "id": "02fe3264",
   "metadata": {},
   "outputs": [
    {
     "data": {
      "text/plain": [
       "list"
      ]
     },
     "execution_count": 27,
     "metadata": {},
     "output_type": "execute_result"
    }
   ],
   "source": [
    "type(data1['postJobName'][0])"
   ]
  },
  {
   "cell_type": "code",
   "execution_count": 48,
   "id": "aecfabb4",
   "metadata": {},
   "outputs": [
    {
     "data": {
      "text/plain": [
       "[-2.6323798639569413,\n",
       " -8.362326446566954,\n",
       " 6.592960999376624,\n",
       " 7.516191393419017,\n",
       " 5.310957101666868,\n",
       " -0.7863593405203393,\n",
       " 2.7456543331434666,\n",
       " 1.1651740065209253,\n",
       " 0.5600205894285493,\n",
       " -0.09230260811867881,\n",
       " 0.06068746715813254,\n",
       " -3.2889956995690337,\n",
       " 1.7121745997386597,\n",
       " -3.587760224582707,\n",
       " 4.406916046957243,\n",
       " 4.080324338085828,\n",
       " -2.4946568704495853,\n",
       " -1.7956443254188648,\n",
       " 0.9542047666738277,\n",
       " -1.2237747522737261,\n",
       " 5.982629153139553,\n",
       " -1.6834647689316244,\n",
       " -0.32413180903100924,\n",
       " -2.622448104152223,\n",
       " 5.729444045586299,\n",
       " -0.6475491489878153,\n",
       " 1.3926335958313327,\n",
       " -2.2790681243773427,\n",
       " -1.966881974833695,\n",
       " 1.703143635630207,\n",
       " -4.139171420047815,\n",
       " 0.8066027501939357,\n",
       " 0.6767881601389967,\n",
       " 2.4600778083004884,\n",
       " 1.919404923504859,\n",
       " 1.5583220753792852,\n",
       " -0.8480245268179597,\n",
       " 3.001249703859568,\n",
       " 0.9300847852572184,\n",
       " 3.3571367086576496,\n",
       " -2.07874055041487,\n",
       " 0.44149805793328456,\n",
       " 3.723838347930854,\n",
       " 1.572039842422436,\n",
       " 3.1678876922334513,\n",
       " 0.47026437595040294,\n",
       " -0.6662048703506999,\n",
       " 0.24951893791311933,\n",
       " 1.4353141716534852,\n",
       " 0.15460475176799193]"
      ]
     },
     "execution_count": 48,
     "metadata": {},
     "output_type": "execute_result"
    }
   ],
   "source": [
    "data1['Cvs'][0]"
   ]
  },
  {
   "cell_type": "code",
   "execution_count": 49,
   "id": "6bfcd9af",
   "metadata": {},
   "outputs": [
    {
     "data": {
      "text/html": [
       "<div>\n",
       "<style scoped>\n",
       "    .dataframe tbody tr th:only-of-type {\n",
       "        vertical-align: middle;\n",
       "    }\n",
       "\n",
       "    .dataframe tbody tr th {\n",
       "        vertical-align: top;\n",
       "    }\n",
       "\n",
       "    .dataframe thead th {\n",
       "        text-align: right;\n",
       "    }\n",
       "</style>\n",
       "<table border=\"1\" class=\"dataframe\">\n",
       "  <thead>\n",
       "    <tr style=\"text-align: right;\">\n",
       "      <th></th>\n",
       "      <th>sex</th>\n",
       "      <th>age</th>\n",
       "      <th>currentAddress</th>\n",
       "      <th>currentPayment</th>\n",
       "      <th>postJobName</th>\n",
       "      <th>recommendReason</th>\n",
       "      <th>workLonger</th>\n",
       "      <th>eduBackground</th>\n",
       "      <th>cvkeywords</th>\n",
       "      <th>major</th>\n",
       "      <th>...</th>\n",
       "      <th>benefit</th>\n",
       "      <th>label</th>\n",
       "      <th>EqualAddress</th>\n",
       "      <th>EqualJob</th>\n",
       "      <th>Cvs</th>\n",
       "      <th>Jds</th>\n",
       "      <th>EqualWord</th>\n",
       "      <th>Cvsnum</th>\n",
       "      <th>Jdsnum</th>\n",
       "      <th>FitEdu</th>\n",
       "    </tr>\n",
       "  </thead>\n",
       "  <tbody>\n",
       "    <tr>\n",
       "      <th>0</th>\n",
       "      <td>MALE</td>\n",
       "      <td>0.517857</td>\n",
       "      <td>3</td>\n",
       "      <td>0.351719</td>\n",
       "      <td>[-0.48266388745405814, -0.05315832288594922, -...</td>\n",
       "      <td>[-1.8090081402864413, 0.3290084377321029, -0.4...</td>\n",
       "      <td>0.068182</td>\n",
       "      <td>本科</td>\n",
       "      <td>[1.167181915595595, 0.7402713343413235, -0.002...</td>\n",
       "      <td>自动化</td>\n",
       "      <td>...</td>\n",
       "      <td>[2.28408191352732, 3.1790636116043856, -1.1752...</td>\n",
       "      <td>1</td>\n",
       "      <td>False</td>\n",
       "      <td>0.000000</td>\n",
       "      <td>[-2.6323798639569413, -8.362326446566954, 6.59...</td>\n",
       "      <td>[-4.006641716357684, -0.30150849242412653, 2.5...</td>\n",
       "      <td>0.015319</td>\n",
       "      <td>0.098091</td>\n",
       "      <td>0.264808</td>\n",
       "      <td>True</td>\n",
       "    </tr>\n",
       "    <tr>\n",
       "      <th>1</th>\n",
       "      <td>MALE</td>\n",
       "      <td>0.517857</td>\n",
       "      <td>3</td>\n",
       "      <td>0.351719</td>\n",
       "      <td>[-0.48266388745405814, -0.05315832288594922, -...</td>\n",
       "      <td>[-1.8090081402864413, 0.3290084377321029, -0.4...</td>\n",
       "      <td>0.068182</td>\n",
       "      <td>本科</td>\n",
       "      <td>[1.167181915595595, 0.7402713343413235, -0.002...</td>\n",
       "      <td>自动化</td>\n",
       "      <td>...</td>\n",
       "      <td>[-0.8078333176741346, 0.10183298300898035, 0.1...</td>\n",
       "      <td>0</td>\n",
       "      <td>False</td>\n",
       "      <td>0.000000</td>\n",
       "      <td>[-2.6323798639569413, -8.362326446566954, 6.59...</td>\n",
       "      <td>[-1.6276091508113422, 0.20449902033825904, 0.2...</td>\n",
       "      <td>0.032340</td>\n",
       "      <td>0.098091</td>\n",
       "      <td>0.243902</td>\n",
       "      <td>True</td>\n",
       "    </tr>\n",
       "    <tr>\n",
       "      <th>2</th>\n",
       "      <td>MALE</td>\n",
       "      <td>0.625000</td>\n",
       "      <td>2</td>\n",
       "      <td>0.615905</td>\n",
       "      <td>[2.189816649559665, 0.8339484106039369, -0.379...</td>\n",
       "      <td>[-1.7793489433135383, 0.31867071284006326, -0....</td>\n",
       "      <td>0.272727</td>\n",
       "      <td>本科</td>\n",
       "      <td>[-0.27545664632821076, 0.20010831589142028, 0....</td>\n",
       "      <td>其他</td>\n",
       "      <td>...</td>\n",
       "      <td>[-0.8078333176741346, 0.10183298300898035, 0.1...</td>\n",
       "      <td>1</td>\n",
       "      <td>False</td>\n",
       "      <td>0.214286</td>\n",
       "      <td>[-8.988107651674683, -0.267331026154027, -0.26...</td>\n",
       "      <td>[4.2935560277093066, -2.0177516063965832, 1.71...</td>\n",
       "      <td>0.011631</td>\n",
       "      <td>0.046605</td>\n",
       "      <td>0.261324</td>\n",
       "      <td>True</td>\n",
       "    </tr>\n",
       "    <tr>\n",
       "      <th>3</th>\n",
       "      <td>MALE</td>\n",
       "      <td>0.625000</td>\n",
       "      <td>2</td>\n",
       "      <td>0.615905</td>\n",
       "      <td>[2.189816649559665, 0.8339484106039369, -0.379...</td>\n",
       "      <td>[-1.7793489433135383, 0.31867071284006326, -0....</td>\n",
       "      <td>0.272727</td>\n",
       "      <td>本科</td>\n",
       "      <td>[-0.27545664632821076, 0.20010831589142028, 0....</td>\n",
       "      <td>其他</td>\n",
       "      <td>...</td>\n",
       "      <td>[1.8133310443946342, -0.1626848538637713, 0.39...</td>\n",
       "      <td>0</td>\n",
       "      <td>False</td>\n",
       "      <td>0.000000</td>\n",
       "      <td>[-8.988107651674683, -0.267331026154027, -0.26...</td>\n",
       "      <td>[-2.3890939903339015, -0.38455091868784547, 1....</td>\n",
       "      <td>0.005390</td>\n",
       "      <td>0.046605</td>\n",
       "      <td>0.303136</td>\n",
       "      <td>True</td>\n",
       "    </tr>\n",
       "    <tr>\n",
       "      <th>4</th>\n",
       "      <td>MALE</td>\n",
       "      <td>0.535714</td>\n",
       "      <td>4</td>\n",
       "      <td>0.683741</td>\n",
       "      <td>[1.0948469288848115, -0.19021169859424483, 0.2...</td>\n",
       "      <td>[-0.4294405618602598, 0.42602468109693004, -0....</td>\n",
       "      <td>0.181818</td>\n",
       "      <td>大专</td>\n",
       "      <td>[-1.08261333362462, 0.794929018900652, -0.3579...</td>\n",
       "      <td>经济</td>\n",
       "      <td>...</td>\n",
       "      <td>[-0.028005999236623502, -0.4466591456950586, -...</td>\n",
       "      <td>1</td>\n",
       "      <td>False</td>\n",
       "      <td>0.000000</td>\n",
       "      <td>[2.976442904804161, 0.6720510893970607, -11.90...</td>\n",
       "      <td>[-0.8522593081768158, -2.183819430180423, -1.4...</td>\n",
       "      <td>0.006809</td>\n",
       "      <td>0.094541</td>\n",
       "      <td>0.052265</td>\n",
       "      <td>True</td>\n",
       "    </tr>\n",
       "    <tr>\n",
       "      <th>...</th>\n",
       "      <td>...</td>\n",
       "      <td>...</td>\n",
       "      <td>...</td>\n",
       "      <td>...</td>\n",
       "      <td>...</td>\n",
       "      <td>...</td>\n",
       "      <td>...</td>\n",
       "      <td>...</td>\n",
       "      <td>...</td>\n",
       "      <td>...</td>\n",
       "      <td>...</td>\n",
       "      <td>...</td>\n",
       "      <td>...</td>\n",
       "      <td>...</td>\n",
       "      <td>...</td>\n",
       "      <td>...</td>\n",
       "      <td>...</td>\n",
       "      <td>...</td>\n",
       "      <td>...</td>\n",
       "      <td>...</td>\n",
       "      <td>...</td>\n",
       "    </tr>\n",
       "    <tr>\n",
       "      <th>64857</th>\n",
       "      <td>MALE</td>\n",
       "      <td>0.571429</td>\n",
       "      <td>0</td>\n",
       "      <td>1.897499</td>\n",
       "      <td>[-0.48266388745405814, -0.05315832288594922, -...</td>\n",
       "      <td>[-0.7449835559970489, -1.9531118859856038, -1....</td>\n",
       "      <td>0.136364</td>\n",
       "      <td>本科</td>\n",
       "      <td>[0.8429836524337201, -0.8855575459945638, 0.44...</td>\n",
       "      <td>自动化</td>\n",
       "      <td>...</td>\n",
       "      <td>[-0.8078333176741346, 0.10183298300898035, 0.1...</td>\n",
       "      <td>0</td>\n",
       "      <td>False</td>\n",
       "      <td>0.000000</td>\n",
       "      <td>[-13.29082451775793, 0.1312678930331333, 1.099...</td>\n",
       "      <td>[-1.9985295903673137, -2.489588441533059, -1.9...</td>\n",
       "      <td>0.000000</td>\n",
       "      <td>0.035064</td>\n",
       "      <td>0.006969</td>\n",
       "      <td>False</td>\n",
       "    </tr>\n",
       "    <tr>\n",
       "      <th>64858</th>\n",
       "      <td>MALE</td>\n",
       "      <td>0.517857</td>\n",
       "      <td>0</td>\n",
       "      <td>0.351719</td>\n",
       "      <td>[0.18162245599844842, 0.17212266420660305, -0....</td>\n",
       "      <td>[-1.35505479333728, -0.8223091095748777, -0.85...</td>\n",
       "      <td>0.113636</td>\n",
       "      <td>本科</td>\n",
       "      <td>[0.06296053054116177, -0.6449975331043984, -0....</td>\n",
       "      <td>自动化</td>\n",
       "      <td>...</td>\n",
       "      <td>[1.8133310443946342, -0.1626848538637713, 0.39...</td>\n",
       "      <td>1</td>\n",
       "      <td>True</td>\n",
       "      <td>0.000000</td>\n",
       "      <td>[-12.392731176086242, -0.41109461886050613, 1....</td>\n",
       "      <td>[-2.449126537247743, -1.4805212886383248, 0.01...</td>\n",
       "      <td>0.017021</td>\n",
       "      <td>0.033733</td>\n",
       "      <td>0.184669</td>\n",
       "      <td>True</td>\n",
       "    </tr>\n",
       "    <tr>\n",
       "      <th>64859</th>\n",
       "      <td>MALE</td>\n",
       "      <td>0.517857</td>\n",
       "      <td>0</td>\n",
       "      <td>0.351719</td>\n",
       "      <td>[0.18162245599844842, 0.17212266420660305, -0....</td>\n",
       "      <td>[-1.35505479333728, -0.8223091095748777, -0.85...</td>\n",
       "      <td>0.113636</td>\n",
       "      <td>本科</td>\n",
       "      <td>[0.06296053054116177, -0.6449975331043984, -0....</td>\n",
       "      <td>自动化</td>\n",
       "      <td>...</td>\n",
       "      <td>[-0.06070086582281843, -0.32470569919613623, -...</td>\n",
       "      <td>0</td>\n",
       "      <td>False</td>\n",
       "      <td>0.000000</td>\n",
       "      <td>[-12.392731176086242, -0.41109461886050613, 1....</td>\n",
       "      <td>[4.846315988609907, -0.5077683950700731, -0.39...</td>\n",
       "      <td>0.004823</td>\n",
       "      <td>0.033733</td>\n",
       "      <td>0.282230</td>\n",
       "      <td>True</td>\n",
       "    </tr>\n",
       "    <tr>\n",
       "      <th>64860</th>\n",
       "      <td>MALE</td>\n",
       "      <td>0.642857</td>\n",
       "      <td>8</td>\n",
       "      <td>0.765310</td>\n",
       "      <td>[0.9103477072702192, 0.33535148765569134, -0.3...</td>\n",
       "      <td>[-1.3543210178617888, 0.19608034846962594, 0.5...</td>\n",
       "      <td>0.272727</td>\n",
       "      <td>本科</td>\n",
       "      <td>[0.2606613165868207, 0.34500196688305246, 1.04...</td>\n",
       "      <td>管理</td>\n",
       "      <td>...</td>\n",
       "      <td>[-0.02800599923662349, -0.4466591456950585, -0...</td>\n",
       "      <td>1</td>\n",
       "      <td>False</td>\n",
       "      <td>0.000000</td>\n",
       "      <td>[9.100263135203203, -6.884910335123983, -3.873...</td>\n",
       "      <td>[-0.8522593081768158, -2.183819430180423, -1.4...</td>\n",
       "      <td>0.008227</td>\n",
       "      <td>0.221926</td>\n",
       "      <td>0.052265</td>\n",
       "      <td>True</td>\n",
       "    </tr>\n",
       "    <tr>\n",
       "      <th>64861</th>\n",
       "      <td>MALE</td>\n",
       "      <td>0.642857</td>\n",
       "      <td>8</td>\n",
       "      <td>0.765310</td>\n",
       "      <td>[0.9103477072702192, 0.33535148765569134, -0.3...</td>\n",
       "      <td>[-1.3543210178617888, 0.19608034846962594, 0.5...</td>\n",
       "      <td>0.272727</td>\n",
       "      <td>本科</td>\n",
       "      <td>[0.2606613165868207, 0.34500196688305246, 1.04...</td>\n",
       "      <td>管理</td>\n",
       "      <td>...</td>\n",
       "      <td>[-0.8078333176741342, 0.10183298300898036, 0.1...</td>\n",
       "      <td>0</td>\n",
       "      <td>False</td>\n",
       "      <td>0.000000</td>\n",
       "      <td>[9.100263135203203, -6.884910335123983, -3.873...</td>\n",
       "      <td>[-1.7230677794887257, -2.4021226467079253, -0....</td>\n",
       "      <td>0.011348</td>\n",
       "      <td>0.221926</td>\n",
       "      <td>0.135889</td>\n",
       "      <td>True</td>\n",
       "    </tr>\n",
       "  </tbody>\n",
       "</table>\n",
       "<p>64862 rows × 35 columns</p>\n",
       "</div>"
      ],
      "text/plain": [
       "        sex       age  currentAddress  currentPayment  \\\n",
       "0      MALE  0.517857               3        0.351719   \n",
       "1      MALE  0.517857               3        0.351719   \n",
       "2      MALE  0.625000               2        0.615905   \n",
       "3      MALE  0.625000               2        0.615905   \n",
       "4      MALE  0.535714               4        0.683741   \n",
       "...     ...       ...             ...             ...   \n",
       "64857  MALE  0.571429               0        1.897499   \n",
       "64858  MALE  0.517857               0        0.351719   \n",
       "64859  MALE  0.517857               0        0.351719   \n",
       "64860  MALE  0.642857               8        0.765310   \n",
       "64861  MALE  0.642857               8        0.765310   \n",
       "\n",
       "                                             postJobName  \\\n",
       "0      [-0.48266388745405814, -0.05315832288594922, -...   \n",
       "1      [-0.48266388745405814, -0.05315832288594922, -...   \n",
       "2      [2.189816649559665, 0.8339484106039369, -0.379...   \n",
       "3      [2.189816649559665, 0.8339484106039369, -0.379...   \n",
       "4      [1.0948469288848115, -0.19021169859424483, 0.2...   \n",
       "...                                                  ...   \n",
       "64857  [-0.48266388745405814, -0.05315832288594922, -...   \n",
       "64858  [0.18162245599844842, 0.17212266420660305, -0....   \n",
       "64859  [0.18162245599844842, 0.17212266420660305, -0....   \n",
       "64860  [0.9103477072702192, 0.33535148765569134, -0.3...   \n",
       "64861  [0.9103477072702192, 0.33535148765569134, -0.3...   \n",
       "\n",
       "                                         recommendReason  workLonger  \\\n",
       "0      [-1.8090081402864413, 0.3290084377321029, -0.4...    0.068182   \n",
       "1      [-1.8090081402864413, 0.3290084377321029, -0.4...    0.068182   \n",
       "2      [-1.7793489433135383, 0.31867071284006326, -0....    0.272727   \n",
       "3      [-1.7793489433135383, 0.31867071284006326, -0....    0.272727   \n",
       "4      [-0.4294405618602598, 0.42602468109693004, -0....    0.181818   \n",
       "...                                                  ...         ...   \n",
       "64857  [-0.7449835559970489, -1.9531118859856038, -1....    0.136364   \n",
       "64858  [-1.35505479333728, -0.8223091095748777, -0.85...    0.113636   \n",
       "64859  [-1.35505479333728, -0.8223091095748777, -0.85...    0.113636   \n",
       "64860  [-1.3543210178617888, 0.19608034846962594, 0.5...    0.272727   \n",
       "64861  [-1.3543210178617888, 0.19608034846962594, 0.5...    0.272727   \n",
       "\n",
       "      eduBackground                                         cvkeywords major  \\\n",
       "0                本科  [1.167181915595595, 0.7402713343413235, -0.002...   自动化   \n",
       "1                本科  [1.167181915595595, 0.7402713343413235, -0.002...   自动化   \n",
       "2                本科  [-0.27545664632821076, 0.20010831589142028, 0....    其他   \n",
       "3                本科  [-0.27545664632821076, 0.20010831589142028, 0....    其他   \n",
       "4                大专  [-1.08261333362462, 0.794929018900652, -0.3579...    经济   \n",
       "...             ...                                                ...   ...   \n",
       "64857            本科  [0.8429836524337201, -0.8855575459945638, 0.44...   自动化   \n",
       "64858            本科  [0.06296053054116177, -0.6449975331043984, -0....   自动化   \n",
       "64859            本科  [0.06296053054116177, -0.6449975331043984, -0....   自动化   \n",
       "64860            本科  [0.2606613165868207, 0.34500196688305246, 1.04...    管理   \n",
       "64861            本科  [0.2606613165868207, 0.34500196688305246, 1.04...    管理   \n",
       "\n",
       "       ...                                            benefit label  \\\n",
       "0      ...  [2.28408191352732, 3.1790636116043856, -1.1752...     1   \n",
       "1      ...  [-0.8078333176741346, 0.10183298300898035, 0.1...     0   \n",
       "2      ...  [-0.8078333176741346, 0.10183298300898035, 0.1...     1   \n",
       "3      ...  [1.8133310443946342, -0.1626848538637713, 0.39...     0   \n",
       "4      ...  [-0.028005999236623502, -0.4466591456950586, -...     1   \n",
       "...    ...                                                ...   ...   \n",
       "64857  ...  [-0.8078333176741346, 0.10183298300898035, 0.1...     0   \n",
       "64858  ...  [1.8133310443946342, -0.1626848538637713, 0.39...     1   \n",
       "64859  ...  [-0.06070086582281843, -0.32470569919613623, -...     0   \n",
       "64860  ...  [-0.02800599923662349, -0.4466591456950585, -0...     1   \n",
       "64861  ...  [-0.8078333176741342, 0.10183298300898036, 0.1...     0   \n",
       "\n",
       "      EqualAddress  EqualJob  \\\n",
       "0            False  0.000000   \n",
       "1            False  0.000000   \n",
       "2            False  0.214286   \n",
       "3            False  0.000000   \n",
       "4            False  0.000000   \n",
       "...            ...       ...   \n",
       "64857        False  0.000000   \n",
       "64858         True  0.000000   \n",
       "64859        False  0.000000   \n",
       "64860        False  0.000000   \n",
       "64861        False  0.000000   \n",
       "\n",
       "                                                     Cvs  \\\n",
       "0      [-2.6323798639569413, -8.362326446566954, 6.59...   \n",
       "1      [-2.6323798639569413, -8.362326446566954, 6.59...   \n",
       "2      [-8.988107651674683, -0.267331026154027, -0.26...   \n",
       "3      [-8.988107651674683, -0.267331026154027, -0.26...   \n",
       "4      [2.976442904804161, 0.6720510893970607, -11.90...   \n",
       "...                                                  ...   \n",
       "64857  [-13.29082451775793, 0.1312678930331333, 1.099...   \n",
       "64858  [-12.392731176086242, -0.41109461886050613, 1....   \n",
       "64859  [-12.392731176086242, -0.41109461886050613, 1....   \n",
       "64860  [9.100263135203203, -6.884910335123983, -3.873...   \n",
       "64861  [9.100263135203203, -6.884910335123983, -3.873...   \n",
       "\n",
       "                                                     Jds EqualWord    Cvsnum  \\\n",
       "0      [-4.006641716357684, -0.30150849242412653, 2.5...  0.015319  0.098091   \n",
       "1      [-1.6276091508113422, 0.20449902033825904, 0.2...  0.032340  0.098091   \n",
       "2      [4.2935560277093066, -2.0177516063965832, 1.71...  0.011631  0.046605   \n",
       "3      [-2.3890939903339015, -0.38455091868784547, 1....  0.005390  0.046605   \n",
       "4      [-0.8522593081768158, -2.183819430180423, -1.4...  0.006809  0.094541   \n",
       "...                                                  ...       ...       ...   \n",
       "64857  [-1.9985295903673137, -2.489588441533059, -1.9...  0.000000  0.035064   \n",
       "64858  [-2.449126537247743, -1.4805212886383248, 0.01...  0.017021  0.033733   \n",
       "64859  [4.846315988609907, -0.5077683950700731, -0.39...  0.004823  0.033733   \n",
       "64860  [-0.8522593081768158, -2.183819430180423, -1.4...  0.008227  0.221926   \n",
       "64861  [-1.7230677794887257, -2.4021226467079253, -0....  0.011348  0.221926   \n",
       "\n",
       "         Jdsnum  FitEdu  \n",
       "0      0.264808    True  \n",
       "1      0.243902    True  \n",
       "2      0.261324    True  \n",
       "3      0.303136    True  \n",
       "4      0.052265    True  \n",
       "...         ...     ...  \n",
       "64857  0.006969   False  \n",
       "64858  0.184669    True  \n",
       "64859  0.282230    True  \n",
       "64860  0.052265    True  \n",
       "64861  0.135889    True  \n",
       "\n",
       "[64862 rows x 35 columns]"
      ]
     },
     "execution_count": 49,
     "metadata": {},
     "output_type": "execute_result"
    }
   ],
   "source": [
    "data1"
   ]
  },
  {
   "cell_type": "code",
   "execution_count": null,
   "id": "7c3cb5e7",
   "metadata": {},
   "outputs": [],
   "source": []
  },
  {
   "cell_type": "code",
   "execution_count": null,
   "id": "d836d793",
   "metadata": {},
   "outputs": [],
   "source": []
  },
  {
   "cell_type": "code",
   "execution_count": null,
   "metadata": {},
   "outputs": [],
   "source": []
  },
  {
   "cell_type": "code",
   "execution_count": 41,
   "id": "40fc0172",
   "metadata": {},
   "outputs": [],
   "source": [
    "data1 = pd.read_pickle('dataV0623.pkl') #这里是数据\n",
    "train0 = data1.loc[0:11999] #如果把所有训练集放进去一起训练会爆显存那就分一下\n",
    "train1 = data1.loc[12000:23999]\n",
    "train = data1.loc[0:51889]\n",
    "test = data1.loc[51890:64861]\n",
    "\n",
    "flags = tf.app.flags\n",
    "FLAGS = flags.FLAGS\n",
    "tf.app.flags.DEFINE_string('f','','kernel')\n",
    "\n",
    "flags.DEFINE_string(\"model_dir\",\"./modelV0624\",\"Base directory for output models.\") #模型输出路径\n",
    "flags.DEFINE_integer(\"train_steps\",2000,\"Number of training steps.\") #训练次数，之前在3w的数据集上这个比较合适\n",
    "\n",
    "COLUMNS = ['sex', 'age', 'currentAddress', 'currentPayment', 'postJobName', 'recommendReason',\n",
    "           'workLonger', 'eduBackground', 'cvkeywords', 'major', 'recommended', 'keyU', 'jobTracks',\n",
    "           'title', 'location', 'jdkeywords', 'minEduBackground', 'minWorkYearReq', 'minAnnualSalary',\n",
    "           'maxWorkYearReq', 'description', 'requirement', 'phase', 'scale', 'industry', 'benefit', 'EqualAddress', 'EqualJob', 'Cvs',\n",
    "       'Jds', 'EqualWord', 'FitEdu'] # 所有的特征\n",
    "\n",
    "LABEL_COLUMN = \"label\"\n",
    "\n",
    "CATEGORICAL_COLUMNS = ['sex',  'currentAddress',  \n",
    "            'eduBackground', 'major', 'recommended', 'keyU',\n",
    "            'minEduBackground',   'phase', 'FitEdu'] #离散特征\n",
    "\n",
    "ARRAY_COLUMNS = ['postJobName', 'recommendReason',\n",
    "            'cvkeywords','jobTracks',\n",
    "           'title', 'location', 'jdkeywords','description', 'requirement','industry', 'benefit', 'Cvs',\n",
    "       'Jds'] #使用bags of word向量化，并进行降维的特征\n",
    "\n",
    "CONTINUOUS_COLUMNS = ['age', 'currentPayment', 'workLonger', 'minWorkYearReq', 'minAnnualSalary',\n",
    "           'maxWorkYearReq', 'scale', 'EqualAddress', 'EqualJob', 'EqualWord'] #连续数值特征"
   ]
  },
  {
   "cell_type": "code",
   "execution_count": 103,
   "id": "14229477",
   "metadata": {},
   "outputs": [
    {
     "data": {
      "text/plain": [
       "0        1\n",
       "1        0\n",
       "2        1\n",
       "3        0\n",
       "4        1\n",
       "        ..\n",
       "64857    0\n",
       "64858    1\n",
       "64859    0\n",
       "64860    1\n",
       "64861    0\n",
       "Name: label, Length: 64862, dtype: int64"
      ]
     },
     "execution_count": 103,
     "metadata": {},
     "output_type": "execute_result"
    }
   ],
   "source": [
    "# linus 查看多列\n",
    "data1[LABEL_COLUMN]"
   ]
  },
  {
   "cell_type": "code",
   "execution_count": 104,
   "id": "3af52701",
   "metadata": {},
   "outputs": [
    {
     "data": {
      "text/plain": [
       "1    32431\n",
       "0    32431\n",
       "Name: label, dtype: int64"
      ]
     },
     "execution_count": 104,
     "metadata": {},
     "output_type": "execute_result"
    }
   ],
   "source": [
    "# 查看单列类别的个数\n",
    "data1[LABEL_COLUMN].value_counts()"
   ]
  },
  {
   "cell_type": "code",
   "execution_count": 98,
   "id": "89d52729",
   "metadata": {},
   "outputs": [
    {
     "data": {
      "text/plain": [
       "array(['自动化', '其他', '经济', '会计', '管理', '物理', '计算机', '数学', '车辆', '金融', '语言',\n",
       "       '经管', '医药', '建筑', '材料', '信息', '电子', '法学', '艺术', '机械', '仪器', '统计',\n",
       "       '工业工程', '化学', '心理', '食品', '环境', '生物', '土木', '新闻', '能动'],\n",
       "      dtype=object)"
      ]
     },
     "execution_count": 98,
     "metadata": {},
     "output_type": "execute_result"
    }
   ],
   "source": [
    "# linus 单列不同的值\n",
    "data1['major'].unique()"
   ]
  },
  {
   "cell_type": "code",
   "execution_count": 106,
   "id": "cd1f84b5",
   "metadata": {},
   "outputs": [
    {
     "name": "stdout",
     "output_type": "stream",
     "text": [
      "<class 'pandas.core.frame.DataFrame'>\n",
      "RangeIndex: 64862 entries, 0 to 64861\n",
      "Data columns (total 35 columns):\n",
      " #   Column            Non-Null Count  Dtype  \n",
      "---  ------            --------------  -----  \n",
      " 0   sex               64862 non-null  object \n",
      " 1   age               64862 non-null  float64\n",
      " 2   currentAddress    64862 non-null  int32  \n",
      " 3   currentPayment    64862 non-null  float64\n",
      " 4   postJobName       64862 non-null  object \n",
      " 5   recommendReason   64862 non-null  object \n",
      " 6   workLonger        64862 non-null  float64\n",
      " 7   eduBackground     64862 non-null  object \n",
      " 8   cvkeywords        64862 non-null  object \n",
      " 9   major             64862 non-null  object \n",
      " 10  jobTracks         64862 non-null  object \n",
      " 11  keyU              64862 non-null  object \n",
      " 12  recommended       64862 non-null  object \n",
      " 13  title             64862 non-null  object \n",
      " 14  location          64862 non-null  int32  \n",
      " 15  jdkeywords        64862 non-null  object \n",
      " 16  minEduBackground  64862 non-null  object \n",
      " 17  minWorkYearReq    64862 non-null  float64\n",
      " 18  minAnnualSalary   64862 non-null  float64\n",
      " 19  maxWorkYearReq    64862 non-null  float64\n",
      " 20  description       64862 non-null  object \n",
      " 21  requirement       64862 non-null  object \n",
      " 22  phase             64862 non-null  object \n",
      " 23  scale             64862 non-null  float64\n",
      " 24  industry          64862 non-null  object \n",
      " 25  benefit           64862 non-null  object \n",
      " 26  label             64862 non-null  int64  \n",
      " 27  EqualAddress      64862 non-null  object \n",
      " 28  EqualJob          64862 non-null  float64\n",
      " 29  Cvs               64862 non-null  object \n",
      " 30  Jds               64862 non-null  object \n",
      " 31  EqualWord         64862 non-null  float64\n",
      " 32  Cvsnum            64862 non-null  float64\n",
      " 33  Jdsnum            64862 non-null  float64\n",
      " 34  FitEdu            64862 non-null  object \n",
      "dtypes: float64(11), int32(2), int64(1), object(21)\n",
      "memory usage: 16.8+ MB\n"
     ]
    }
   ],
   "source": [
    "data1.info()"
   ]
  },
  {
   "cell_type": "code",
   "execution_count": 83,
   "id": "f51f2803",
   "metadata": {},
   "outputs": [
    {
     "data": {
      "text/plain": [
       "0        MALE\n",
       "6      FEMALE\n",
       "14    UNKNOWN\n",
       "Name: sex, dtype: object"
      ]
     },
     "execution_count": 83,
     "metadata": {},
     "output_type": "execute_result"
    }
   ],
   "source": [
    "# linus 单列去重\n",
    "data1['sex'].drop_duplicates()"
   ]
  },
  {
   "cell_type": "code",
   "execution_count": 86,
   "id": "55fdad40",
   "metadata": {},
   "outputs": [
    {
     "data": {
      "text/plain": [
       "array(['MALE', 'FEMALE', 'UNKNOWN'], dtype=object)"
      ]
     },
     "execution_count": 86,
     "metadata": {},
     "output_type": "execute_result"
    }
   ],
   "source": [
    "# linus 单列不同的值\n",
    "data1['sex'].unique()"
   ]
  },
  {
   "cell_type": "code",
   "execution_count": 75,
   "id": "a3413565",
   "metadata": {},
   "outputs": [
    {
     "name": "stdout",
     "output_type": "stream",
     "text": [
      "['Cvs', 'EqualAddress', 'EqualJob', 'EqualWord', 'FitEdu', 'Jds', 'age', 'benefit', 'currentAddress', 'currentPayment', 'cvkeywords', 'description', 'eduBackground', 'industry', 'jdkeywords', 'jobTracks', 'keyU', 'location', 'major', 'maxWorkYearReq', 'minAnnualSalary', 'minEduBackground', 'minWorkYearReq', 'phase', 'postJobName', 'recommendReason', 'recommended', 'requirement', 'scale', 'sex', 'title', 'workLonger']\n",
      "32\n",
      "['Cvs', 'Cvsnum', 'EqualAddress', 'EqualJob', 'EqualWord', 'FitEdu', 'Jds', 'Jdsnum', 'age', 'benefit', 'currentAddress', 'currentPayment', 'cvkeywords', 'description', 'eduBackground', 'industry', 'jdkeywords', 'jobTracks', 'keyU', 'label', 'location', 'major', 'maxWorkYearReq', 'minAnnualSalary', 'minEduBackground', 'minWorkYearReq', 'phase', 'postJobName', 'recommendReason', 'recommended', 'requirement', 'scale', 'sex', 'title', 'workLonger']\n",
      "35\n"
     ]
    }
   ],
   "source": [
    "# linus通过对比可以发现data1比COLUMNS多了3列：Cvsnum、Jdsnum、label\n",
    "COLUMNS.sort()\n",
    "print(COLUMNS)\n",
    "print(len(COLUMNS))\n",
    "a = list(data1.columns)\n",
    "a.sort()\n",
    "print(a)\n",
    "print(len(a))"
   ]
  },
  {
   "cell_type": "code",
   "execution_count": 57,
   "id": "fb1abdef",
   "metadata": {},
   "outputs": [
    {
     "name": "stdout",
     "output_type": "stream",
     "text": [
      "model dir = ./modelV0624\n"
     ]
    }
   ],
   "source": [
    "# python交互式命令行执行ok\n",
    "# model_dir = tempfile.mkdtemp() if not FLAGS.model_dir else FLAGS.model_dir\n",
    "# print(\"model dir = %s\" % model_dir)\n",
    "# model dir = ./modelV0624\n",
    "\n",
    "# 只要创建一个临时文件夹就可以，既然jupyter执行会报错，就直接跳过去，不影响核心目标。\n",
    "model_dir = tempfile.mkdtemp() if not './modelV0624' else './modelV0624'\n",
    "print(\"model dir = %s\" % model_dir)\n"
   ]
  },
  {
   "cell_type": "code",
   "execution_count": null,
   "id": "3b3356a8",
   "metadata": {},
   "outputs": [],
   "source": []
  },
  {
   "cell_type": "code",
   "execution_count": 116,
   "id": "e4ccc04b",
   "metadata": {},
   "outputs": [],
   "source": [
    "import re\n",
    "\n",
    "\n",
    "def tolist(str1):\n",
    "\n",
    "    str2 = re.split(r'[\\[\\], ]',str1)\n",
    "\n",
    "    while '' in str2:\n",
    "        str2.remove('')\n",
    "\n",
    "    for i in range(len(str2)):\n",
    "        str2[i] = int(str2[i])\n",
    "        \n",
    "    return str2\n",
    "\n",
    "def col2list(data,col):\n",
    "    sdict = {}\n",
    "    for i in range(30000):\n",
    "        sdict[i] = [0]\n",
    "    sr = pd.Series(sdict)\n",
    "    \n",
    "    for i in range(len(data)):\n",
    "        sr[i] = tolist(data.loc[i, col])\n",
    "        if i % 1000 == 0:\n",
    "            print(i)\n",
    "        \n",
    "    data[col] = sr\n",
    "    \n",
    "def col2arr(data,col):\n",
    "    slist = []\n",
    "    for i in tuple(data.index):\n",
    "        slist.append(np.array(data.loc[i,col]))\n",
    "    return np.array(slist)\n",
    "\n",
    "def input_fn(df):\n",
    "    continuous_cols = {k: tf.constant(df[k].values) for k in CONTINUOUS_COLUMNS}\n",
    "    array_cols = {k: tf.constant(col2arr(df,k)) for k in ARRAY_COLUMNS}\n",
    "    categorical_cols = {k: tf.SparseTensor(indices=[[i,0] for i in range( df[k].size)], values = df[k].values, dense_shape=[df[k].size,1]) for k in CATEGORICAL_COLUMNS}\n",
    "    feature_cols = dict(continuous_cols)\n",
    "    feature_cols.update(categorical_cols)\n",
    "    feature_cols.update(array_cols)\n",
    "    label = tf.constant(df[LABEL_COLUMN].values)\n",
    "\n",
    "    return feature_cols, label"
   ]
  },
  {
   "cell_type": "code",
   "execution_count": 108,
   "id": "b17fd0b3",
   "metadata": {},
   "outputs": [],
   "source": [
    "CATEGORICAL_COLUMNS = ['sex',  'currentAddress',  \n",
    "            'eduBackground', 'major', 'recommended', 'keyU',\n",
    "            'minEduBackground',   'phase', 'FitEdu'] #离散特征\n",
    "\n",
    "ARRAY_COLUMNS = ['postJobName', 'recommendReason',\n",
    "            'cvkeywords','jobTracks',\n",
    "           'title', 'location', 'jdkeywords','description', 'requirement','industry', 'benefit', 'Cvs',\n",
    "       'Jds'] #使用bags of word向量化，并进行降维的特征\n",
    "\n",
    "CONTINUOUS_COLUMNS = ['age', 'currentPayment', 'workLonger', 'minWorkYearReq', 'minAnnualSalary',\n",
    "           'maxWorkYearReq', 'scale', 'EqualAddress', 'EqualJob', 'EqualWord'] #连续数值特征"
   ]
  },
  {
   "cell_type": "markdown",
   "id": "057d9b53",
   "metadata": {},
   "source": [
    "categorical中 类别较少的有：sex currentAddress eduBackground major recommended keyU minEduBackground phase"
   ]
  },
  {
   "cell_type": "markdown",
   "id": "3e0d2f4f",
   "metadata": {},
   "source": [
    "### linus 这些列表特征后面显示的数字是啥意思？\n",
    "pJN: 100, rR: 853, cvK: 853, jobT: 853, title: 100, location&currentAddress: 24, jdK: 853, des: 853, requirement: 853, industry: 25, benefit: 18"
   ]
  },
  {
   "cell_type": "markdown",
   "id": "69231618",
   "metadata": {},
   "source": [
    "recommendReason cvKeyword jobTracks jdKeyword description requrement使用的是一个字典去统计词频<br>\n",
    "postJobName title使用的是一个字典<br>\n",
    "industry benefit各自使用一个字典<br>\n",
    "逻辑是：首先把使用同一个字典的文本进行分词，然后加总统计词频。在选出高频关键词后统计每个关键词的频率记为向量。<br>\n",
    "然后统计cv中和jd中关键词的重复数量，其中Cvs和Jds分别是关键词在recommendReason cvKeyword jobTracks；jdKeyword description requrement中出现的向量。<br>\n",
    "第一个字典记为EqualWord，第二个字典记为EqualJob。<br>\n",
    "此外，貌似Address的意义不大，可以只是统计cv和jd中currentAddress和location是否有重复<br>"
   ]
  },
  {
   "cell_type": "code",
   "execution_count": 109,
   "id": "e2e05833",
   "metadata": {},
   "outputs": [],
   "source": [
    "sex = tf.feature_column.categorical_column_with_vocabulary_list(\"sex\", ['MALE', 'FEMALE', 'UNKNOWN'])\n",
    "eduBackground = tf.feature_column.categorical_column_with_vocabulary_list('eduBackground', ['高中', '大专', '硕士', '本科', '中专', 'Unknown', '专科', '博士'])\n",
    "major = tf.feature_column.categorical_column_with_vocabulary_list('major', ['其他', '统计', '自动化', '建筑', '新闻', '土木', '物理', '数学', '材料', '化学', '计算机', '工业工程', '能动', '语言', '会计', '金融', '艺术', '管理', '经管', '食品', '法学', '信息', '环境', '电子', '机械', '医药', '车辆', '生物', '经济', '仪器', '心理'])\n",
    "recommended = tf.feature_column.categorical_column_with_vocabulary_list('recommended', ['True', 'False'])\n",
    "keyU = tf.feature_column.categorical_column_with_vocabulary_list('keyU', ['True', 'False'])\n",
    "FitEdu = tf.feature_column.categorical_column_with_vocabulary_list('FitEdu', ['True', 'False'])\n",
    "EqualAddress = tf.feature_column.categorical_column_with_vocabulary_list('EqualAddress', ['True', 'False'])\n",
    "minEduBackground = tf.feature_column.categorical_column_with_vocabulary_list('minEduBackground', ['高中', '大专', '硕士', '初中', '本科', '中专', '博士'])\n",
    "phase = tf.feature_column.categorical_column_with_vocabulary_list('phase',['战略融资', 'D轮及以上', '股权转让', '股权融资', 'C轮', '未融资', '并购', '种子轮', '定向增发', '已上市', '天使轮', 'IPO上市', 'B轮', '未知', '不需要融资', 'A轮'])\n",
    "\n",
    "postJobName = tf.feature_column.numeric_column(key=\"postJobName\",shape=30)\n",
    "recommendReason = tf.feature_column.numeric_column(key=\"recommendReason\",shape=70)\n",
    "cvkeywords = tf.feature_column.numeric_column(key=\"cvkeywords\",shape=100)\n",
    "jobTracks = tf.feature_column.numeric_column(key=\"jobTracks\",shape=50)\n",
    "title = tf.feature_column.numeric_column(key=\"title\",shape=20)\n",
    "location = tf.feature_column.numeric_column(key=\"location\",shape=1)\n",
    "jdkeywords = tf.feature_column.numeric_column(key=\"jdkeywords\",shape=30)\n",
    "description = tf.feature_column.numeric_column(key=\"description\",shape=50)\n",
    "requirement = tf.feature_column.numeric_column(key=\"requirement\",shape=50)\n",
    "industry = tf.feature_column.numeric_column(key=\"industry\",shape=10)\n",
    "benefit = tf.feature_column.numeric_column(key=\"benefit\",shape=5)\n",
    "Cvs = tf.feature_column.numeric_column(key=\"Cvs\",shape=50)\n",
    "Jds = tf.feature_column.numeric_column(key=\"Jds\",shape=40)\n",
    "\n",
    "currentAddress = tf.feature_column.categorical_column_with_identity('currentAddress', num_buckets=30, default_value=0)\n",
    "currentAddress = tf.feature_column.embedding_column(currentAddress, dimension=8)\n",
    "\n",
    "age = tf.feature_column.numeric_column(\"age\", default_value=0.0)\n",
    "currentPayment = tf.feature_column.numeric_column(\"currentPayment\", default_value=0.0)\n",
    "workLonger = tf.feature_column.numeric_column(\"workLonger\", default_value=0.0)\n",
    "minWorkYearReq = tf.feature_column.numeric_column(\"minWorkYearReq\", default_value=0.0)\n",
    "minAnnualSalary = tf.feature_column.numeric_column(\"minAnnualSalary\", default_value=0.0)\n",
    "maxWorkYearReq = tf.feature_column.numeric_column(\"maxWorkYearReq\", default_value=0.0)\n",
    "scale = tf.feature_column.numeric_column(\"scale\", default_value=0.0)\n",
    "EqualJob = tf.feature_column.numeric_column(\"EqualJob\", default_value=0.0)\n",
    "EqualWord = tf.feature_column.numeric_column(\"EqualWord\", default_value=0.0)"
   ]
  },
  {
   "cell_type": "markdown",
   "id": "30b87b3e",
   "metadata": {},
   "source": [
    "连续型['age', 'currentPayment', 'workLonger', 'minWorkYearReq', 'minAnnualSalary',\n",
    "           'maxWorkYearReq', 'scale']"
   ]
  },
  {
   "cell_type": "code",
   "execution_count": 110,
   "id": "0be39829",
   "metadata": {},
   "outputs": [],
   "source": [
    "age_buckets = tf.feature_column.bucketized_column(age, boundaries= [18, 25, 30, 35, 40, 45, 50, 55, 60, 65])\n",
    "workLonger_buckets = tf.feature_column.bucketized_column(workLonger, boundaries= [5, 10, 15, 20, 25, 30, 35, 40])\n",
    "scale_buckets = tf.feature_column.bucketized_column(scale, boundaries= [25, 100, 500, 1000, 2500, 5000, 10000, 50000])\n",
    "word_buckets = tf.feature_column.bucketized_column(EqualWord, boundaries = [5, 10, 20, 30, 50, 85])"
   ]
  },
  {
   "cell_type": "code",
   "execution_count": 111,
   "id": "3f501797",
   "metadata": {},
   "outputs": [],
   "source": [
    "wide_columns = [sex, eduBackground, recommended, FitEdu, keyU, minEduBackground, phase, EqualAddress, age_buckets, workLonger_buckets, scale_buckets, word_buckets,\n",
    "                tf.feature_column.crossed_column([eduBackground, phase, EqualAddress], hash_bucket_size=int(1e4)),\n",
    "                tf.feature_column.crossed_column([eduBackground, age_buckets, sex], hash_bucket_size=int(1e4)),\n",
    "                tf.feature_column.crossed_column([eduBackground, scale_buckets, phase], hash_bucket_size=int(1e4)),\n",
    "                tf.feature_column.crossed_column([eduBackground, workLonger_buckets, word_buckets], hash_bucket_size=int(1e4)),\n",
    "                tf.feature_column.crossed_column([eduBackground, word_buckets, phase, scale_buckets], hash_bucket_size=int(1e4)),\n",
    "                tf.feature_column.crossed_column([phase, word_buckets, EqualAddress, keyU], hash_bucket_size=int(1e4)),\n",
    "                tf.feature_column.crossed_column([eduBackground, sex], hash_bucket_size=int(1e4)),\n",
    "                tf.feature_column.crossed_column([major, scale_buckets], hash_bucket_size=int(1e4)),\n",
    "                tf.feature_column.crossed_column([age_buckets, minEduBackground, eduBackground], hash_bucket_size=int(1e4))]"
   ]
  },
  {
   "cell_type": "code",
   "execution_count": 112,
   "id": "94c974cd",
   "metadata": {},
   "outputs": [],
   "source": [
    "deep_columns = [postJobName,title, location, currentAddress, industry, benefit, recommendReason, cvkeywords, jobTracks, jdkeywords, description, requirement, Cvs, Jds,\n",
    "                age, currentPayment, workLonger, minWorkYearReq, minAnnualSalary, maxWorkYearReq, scale, EqualJob, EqualWord, \n",
    "                tf.feature_column.embedding_column(sex, 8),\n",
    "                tf.feature_column.embedding_column(eduBackground, 8),\n",
    "                tf.feature_column.embedding_column(recommended, 8),\n",
    "                tf.feature_column.embedding_column(keyU, 8),\n",
    "                tf.feature_column.embedding_column(EqualAddress, 8),\n",
    "                tf.feature_column.embedding_column(phase, 8),\n",
    "               ]"
   ]
  },
  {
   "cell_type": "code",
   "execution_count": 113,
   "id": "c632972d",
   "metadata": {},
   "outputs": [
    {
     "name": "stdout",
     "output_type": "stream",
     "text": [
      "INFO:tensorflow:Using default config.\n",
      "INFO:tensorflow:Using config: {'_model_dir': './modelV0624', '_tf_random_seed': None, '_save_summary_steps': 100, '_save_checkpoints_steps': None, '_save_checkpoints_secs': 600, '_session_config': allow_soft_placement: true\n",
      "graph_options {\n",
      "  rewrite_options {\n",
      "    meta_optimizer_iterations: ONE\n",
      "  }\n",
      "}\n",
      ", '_keep_checkpoint_max': 5, '_keep_checkpoint_every_n_hours': 10000, '_log_step_count_steps': 100, '_train_distribute': None, '_device_fn': None, '_protocol': None, '_eval_distribute': None, '_experimental_distribute': None, '_experimental_max_worker_delay_secs': None, '_session_creation_timeout_secs': 7200, '_service': None, '_cluster_spec': <tensorflow.python.training.server_lib.ClusterSpec object at 0x7f8548ef4f28>, '_task_type': 'worker', '_task_id': 0, '_global_id_in_cluster': 0, '_master': '', '_evaluation_master': '', '_is_chief': True, '_num_ps_replicas': 0, '_num_worker_replicas': 1}\n"
     ]
    }
   ],
   "source": [
    "m = tf.estimator.DNNLinearCombinedClassifier(model_dir=model_dir, linear_feature_columns=wide_columns, dnn_feature_columns = deep_columns, dnn_hidden_units=[5000, 2000, 500, 200, 60, 30, 10])"
   ]
  },
  {
   "cell_type": "code",
   "execution_count": 115,
   "id": "764661df",
   "metadata": {},
   "outputs": [
    {
     "name": "stdout",
     "output_type": "stream",
     "text": [
      "WARNING:tensorflow:From /Users/jinrirencai/opt/anaconda3/envs/tsinghua/lib/python3.6/site-packages/tensorflow_core/python/training/training_util.py:236: Variable.initialized_value (from tensorflow.python.ops.variables) is deprecated and will be removed in a future version.\n",
      "Instructions for updating:\n",
      "Use Variable.read_value. Variables in 2.X are initialized automatically both in eager and graph (inside tf.defun) contexts.\n",
      "INFO:tensorflow:Calling model_fn.\n",
      "WARNING:tensorflow:From /Users/jinrirencai/opt/anaconda3/envs/tsinghua/lib/python3.6/site-packages/tensorflow_core/python/feature_column/feature_column_v2.py:3079: VocabularyListCategoricalColumn._num_buckets (from tensorflow.python.feature_column.feature_column_v2) is deprecated and will be removed in a future version.\n",
      "Instructions for updating:\n",
      "The old _FeatureColumn APIs are being deprecated. Please use the new FeatureColumn APIs instead.\n",
      "WARNING:tensorflow:From /Users/jinrirencai/opt/anaconda3/envs/tsinghua/lib/python3.6/site-packages/tensorflow_core/python/feature_column/feature_column_v2.py:305: Layer.add_variable (from tensorflow.python.keras.engine.base_layer) is deprecated and will be removed in a future version.\n",
      "Instructions for updating:\n",
      "Please use `layer.add_weight` method instead.\n",
      "WARNING:tensorflow:From /Users/jinrirencai/opt/anaconda3/envs/tsinghua/lib/python3.6/site-packages/tensorflow_core/python/ops/resource_variable_ops.py:1630: calling BaseResourceVariable.__init__ (from tensorflow.python.ops.resource_variable_ops) with constraint is deprecated and will be removed in a future version.\n",
      "Instructions for updating:\n",
      "If using Keras pass *_constraint arguments to layers.\n",
      "WARNING:tensorflow:From /Users/jinrirencai/opt/anaconda3/envs/tsinghua/lib/python3.6/site-packages/tensorflow_core/python/feature_column/feature_column_v2.py:3079: IdentityCategoricalColumn._num_buckets (from tensorflow.python.feature_column.feature_column_v2) is deprecated and will be removed in a future version.\n",
      "Instructions for updating:\n",
      "The old _FeatureColumn APIs are being deprecated. Please use the new FeatureColumn APIs instead.\n",
      "WARNING:tensorflow:From /Users/jinrirencai/opt/anaconda3/envs/tsinghua/lib/python3.6/site-packages/tensorflow_core/python/ops/embedding_ops.py:802: where (from tensorflow.python.ops.array_ops) is deprecated and will be removed in a future version.\n",
      "Instructions for updating:\n",
      "Use tf.where in 2.0, which has the same broadcast rule as np.where\n",
      "WARNING:tensorflow:From /Users/jinrirencai/opt/anaconda3/envs/tsinghua/lib/python3.6/site-packages/tensorflow_estimator/python/estimator/canned/linear.py:308: to_float (from tensorflow.python.ops.math_ops) is deprecated and will be removed in a future version.\n",
      "Instructions for updating:\n",
      "Use `tf.cast` instead.\n",
      "WARNING:tensorflow:From /Users/jinrirencai/opt/anaconda3/envs/tsinghua/lib/python3.6/site-packages/tensorflow_core/python/training/adagrad.py:76: calling Constant.__init__ (from tensorflow.python.ops.init_ops) with dtype is deprecated and will be removed in a future version.\n",
      "Instructions for updating:\n",
      "Call initializer instance with the dtype argument instead of passing it to the constructor\n",
      "INFO:tensorflow:Done calling model_fn.\n",
      "INFO:tensorflow:Create CheckpointSaverHook.\n",
      "INFO:tensorflow:Graph was finalized.\n",
      "INFO:tensorflow:Running local_init_op.\n",
      "INFO:tensorflow:Done running local_init_op.\n",
      "INFO:tensorflow:Saving checkpoints for 0 into ./modelV0624/model.ckpt.\n",
      "INFO:tensorflow:loss = 36808.258, step = 1\n"
     ]
    },
    {
     "ename": "KeyboardInterrupt",
     "evalue": "",
     "output_type": "error",
     "traceback": [
      "\u001b[0;31m---------------------------------------------------------------------------\u001b[0m",
      "\u001b[0;31mKeyboardInterrupt\u001b[0m                         Traceback (most recent call last)",
      "\u001b[0;32m<ipython-input-115-b83cb90a1e69>\u001b[0m in \u001b[0;36m<module>\u001b[0;34m\u001b[0m\n\u001b[1;32m      1\u001b[0m \u001b[0;31m# m.train(input_fn=lambda: input_fn(train),steps=FLAGS.train_steps)\u001b[0m\u001b[0;34m\u001b[0m\u001b[0;34m\u001b[0m\u001b[0;34m\u001b[0m\u001b[0m\n\u001b[0;32m----> 2\u001b[0;31m \u001b[0mm\u001b[0m\u001b[0;34m.\u001b[0m\u001b[0mtrain\u001b[0m\u001b[0;34m(\u001b[0m\u001b[0minput_fn\u001b[0m\u001b[0;34m=\u001b[0m\u001b[0;32mlambda\u001b[0m\u001b[0;34m:\u001b[0m \u001b[0minput_fn\u001b[0m\u001b[0;34m(\u001b[0m\u001b[0mtrain\u001b[0m\u001b[0;34m)\u001b[0m\u001b[0;34m,\u001b[0m\u001b[0msteps\u001b[0m\u001b[0;34m=\u001b[0m\u001b[0;36m2000\u001b[0m\u001b[0;34m)\u001b[0m\u001b[0;34m\u001b[0m\u001b[0;34m\u001b[0m\u001b[0m\n\u001b[0m",
      "\u001b[0;32m~/opt/anaconda3/envs/tsinghua/lib/python3.6/site-packages/tensorflow_estimator/python/estimator/estimator.py\u001b[0m in \u001b[0;36mtrain\u001b[0;34m(self, input_fn, hooks, steps, max_steps, saving_listeners)\u001b[0m\n\u001b[1;32m    368\u001b[0m \u001b[0;34m\u001b[0m\u001b[0m\n\u001b[1;32m    369\u001b[0m       \u001b[0msaving_listeners\u001b[0m \u001b[0;34m=\u001b[0m \u001b[0m_check_listeners_type\u001b[0m\u001b[0;34m(\u001b[0m\u001b[0msaving_listeners\u001b[0m\u001b[0;34m)\u001b[0m\u001b[0;34m\u001b[0m\u001b[0;34m\u001b[0m\u001b[0m\n\u001b[0;32m--> 370\u001b[0;31m       \u001b[0mloss\u001b[0m \u001b[0;34m=\u001b[0m \u001b[0mself\u001b[0m\u001b[0;34m.\u001b[0m\u001b[0m_train_model\u001b[0m\u001b[0;34m(\u001b[0m\u001b[0minput_fn\u001b[0m\u001b[0;34m,\u001b[0m \u001b[0mhooks\u001b[0m\u001b[0;34m,\u001b[0m \u001b[0msaving_listeners\u001b[0m\u001b[0;34m)\u001b[0m\u001b[0;34m\u001b[0m\u001b[0;34m\u001b[0m\u001b[0m\n\u001b[0m\u001b[1;32m    371\u001b[0m       \u001b[0mlogging\u001b[0m\u001b[0;34m.\u001b[0m\u001b[0minfo\u001b[0m\u001b[0;34m(\u001b[0m\u001b[0;34m'Loss for final step: %s.'\u001b[0m\u001b[0;34m,\u001b[0m \u001b[0mloss\u001b[0m\u001b[0;34m)\u001b[0m\u001b[0;34m\u001b[0m\u001b[0;34m\u001b[0m\u001b[0m\n\u001b[1;32m    372\u001b[0m       \u001b[0;32mreturn\u001b[0m \u001b[0mself\u001b[0m\u001b[0;34m\u001b[0m\u001b[0;34m\u001b[0m\u001b[0m\n",
      "\u001b[0;32m~/opt/anaconda3/envs/tsinghua/lib/python3.6/site-packages/tensorflow_estimator/python/estimator/estimator.py\u001b[0m in \u001b[0;36m_train_model\u001b[0;34m(self, input_fn, hooks, saving_listeners)\u001b[0m\n\u001b[1;32m   1159\u001b[0m       \u001b[0;32mreturn\u001b[0m \u001b[0mself\u001b[0m\u001b[0;34m.\u001b[0m\u001b[0m_train_model_distributed\u001b[0m\u001b[0;34m(\u001b[0m\u001b[0minput_fn\u001b[0m\u001b[0;34m,\u001b[0m \u001b[0mhooks\u001b[0m\u001b[0;34m,\u001b[0m \u001b[0msaving_listeners\u001b[0m\u001b[0;34m)\u001b[0m\u001b[0;34m\u001b[0m\u001b[0;34m\u001b[0m\u001b[0m\n\u001b[1;32m   1160\u001b[0m     \u001b[0;32melse\u001b[0m\u001b[0;34m:\u001b[0m\u001b[0;34m\u001b[0m\u001b[0;34m\u001b[0m\u001b[0m\n\u001b[0;32m-> 1161\u001b[0;31m       \u001b[0;32mreturn\u001b[0m \u001b[0mself\u001b[0m\u001b[0;34m.\u001b[0m\u001b[0m_train_model_default\u001b[0m\u001b[0;34m(\u001b[0m\u001b[0minput_fn\u001b[0m\u001b[0;34m,\u001b[0m \u001b[0mhooks\u001b[0m\u001b[0;34m,\u001b[0m \u001b[0msaving_listeners\u001b[0m\u001b[0;34m)\u001b[0m\u001b[0;34m\u001b[0m\u001b[0;34m\u001b[0m\u001b[0m\n\u001b[0m\u001b[1;32m   1162\u001b[0m \u001b[0;34m\u001b[0m\u001b[0m\n\u001b[1;32m   1163\u001b[0m   \u001b[0;32mdef\u001b[0m \u001b[0m_train_model_default\u001b[0m\u001b[0;34m(\u001b[0m\u001b[0mself\u001b[0m\u001b[0;34m,\u001b[0m \u001b[0minput_fn\u001b[0m\u001b[0;34m,\u001b[0m \u001b[0mhooks\u001b[0m\u001b[0;34m,\u001b[0m \u001b[0msaving_listeners\u001b[0m\u001b[0;34m)\u001b[0m\u001b[0;34m:\u001b[0m\u001b[0;34m\u001b[0m\u001b[0;34m\u001b[0m\u001b[0m\n",
      "\u001b[0;32m~/opt/anaconda3/envs/tsinghua/lib/python3.6/site-packages/tensorflow_estimator/python/estimator/estimator.py\u001b[0m in \u001b[0;36m_train_model_default\u001b[0;34m(self, input_fn, hooks, saving_listeners)\u001b[0m\n\u001b[1;32m   1193\u001b[0m       return self._train_with_estimator_spec(estimator_spec, worker_hooks,\n\u001b[1;32m   1194\u001b[0m                                              \u001b[0mhooks\u001b[0m\u001b[0;34m,\u001b[0m \u001b[0mglobal_step_tensor\u001b[0m\u001b[0;34m,\u001b[0m\u001b[0;34m\u001b[0m\u001b[0;34m\u001b[0m\u001b[0m\n\u001b[0;32m-> 1195\u001b[0;31m                                              saving_listeners)\n\u001b[0m\u001b[1;32m   1196\u001b[0m \u001b[0;34m\u001b[0m\u001b[0m\n\u001b[1;32m   1197\u001b[0m   \u001b[0;32mdef\u001b[0m \u001b[0m_train_model_distributed\u001b[0m\u001b[0;34m(\u001b[0m\u001b[0mself\u001b[0m\u001b[0;34m,\u001b[0m \u001b[0minput_fn\u001b[0m\u001b[0;34m,\u001b[0m \u001b[0mhooks\u001b[0m\u001b[0;34m,\u001b[0m \u001b[0msaving_listeners\u001b[0m\u001b[0;34m)\u001b[0m\u001b[0;34m:\u001b[0m\u001b[0;34m\u001b[0m\u001b[0;34m\u001b[0m\u001b[0m\n",
      "\u001b[0;32m~/opt/anaconda3/envs/tsinghua/lib/python3.6/site-packages/tensorflow_estimator/python/estimator/estimator.py\u001b[0m in \u001b[0;36m_train_with_estimator_spec\u001b[0;34m(self, estimator_spec, worker_hooks, hooks, global_step_tensor, saving_listeners)\u001b[0m\n\u001b[1;32m   1492\u001b[0m       \u001b[0many_step_done\u001b[0m \u001b[0;34m=\u001b[0m \u001b[0;32mFalse\u001b[0m\u001b[0;34m\u001b[0m\u001b[0;34m\u001b[0m\u001b[0m\n\u001b[1;32m   1493\u001b[0m       \u001b[0;32mwhile\u001b[0m \u001b[0;32mnot\u001b[0m \u001b[0mmon_sess\u001b[0m\u001b[0;34m.\u001b[0m\u001b[0mshould_stop\u001b[0m\u001b[0;34m(\u001b[0m\u001b[0;34m)\u001b[0m\u001b[0;34m:\u001b[0m\u001b[0;34m\u001b[0m\u001b[0;34m\u001b[0m\u001b[0m\n\u001b[0;32m-> 1494\u001b[0;31m         \u001b[0m_\u001b[0m\u001b[0;34m,\u001b[0m \u001b[0mloss\u001b[0m \u001b[0;34m=\u001b[0m \u001b[0mmon_sess\u001b[0m\u001b[0;34m.\u001b[0m\u001b[0mrun\u001b[0m\u001b[0;34m(\u001b[0m\u001b[0;34m[\u001b[0m\u001b[0mestimator_spec\u001b[0m\u001b[0;34m.\u001b[0m\u001b[0mtrain_op\u001b[0m\u001b[0;34m,\u001b[0m \u001b[0mestimator_spec\u001b[0m\u001b[0;34m.\u001b[0m\u001b[0mloss\u001b[0m\u001b[0;34m]\u001b[0m\u001b[0;34m)\u001b[0m\u001b[0;34m\u001b[0m\u001b[0;34m\u001b[0m\u001b[0m\n\u001b[0m\u001b[1;32m   1495\u001b[0m         \u001b[0many_step_done\u001b[0m \u001b[0;34m=\u001b[0m \u001b[0;32mTrue\u001b[0m\u001b[0;34m\u001b[0m\u001b[0;34m\u001b[0m\u001b[0m\n\u001b[1;32m   1496\u001b[0m     \u001b[0;32mif\u001b[0m \u001b[0;32mnot\u001b[0m \u001b[0many_step_done\u001b[0m\u001b[0;34m:\u001b[0m\u001b[0;34m\u001b[0m\u001b[0;34m\u001b[0m\u001b[0m\n",
      "\u001b[0;32m~/opt/anaconda3/envs/tsinghua/lib/python3.6/site-packages/tensorflow_core/python/training/monitored_session.py\u001b[0m in \u001b[0;36mrun\u001b[0;34m(self, fetches, feed_dict, options, run_metadata)\u001b[0m\n\u001b[1;32m    752\u001b[0m         \u001b[0mfeed_dict\u001b[0m\u001b[0;34m=\u001b[0m\u001b[0mfeed_dict\u001b[0m\u001b[0;34m,\u001b[0m\u001b[0;34m\u001b[0m\u001b[0;34m\u001b[0m\u001b[0m\n\u001b[1;32m    753\u001b[0m         \u001b[0moptions\u001b[0m\u001b[0;34m=\u001b[0m\u001b[0moptions\u001b[0m\u001b[0;34m,\u001b[0m\u001b[0;34m\u001b[0m\u001b[0;34m\u001b[0m\u001b[0m\n\u001b[0;32m--> 754\u001b[0;31m         run_metadata=run_metadata)\n\u001b[0m\u001b[1;32m    755\u001b[0m \u001b[0;34m\u001b[0m\u001b[0m\n\u001b[1;32m    756\u001b[0m   \u001b[0;32mdef\u001b[0m \u001b[0mrun_step_fn\u001b[0m\u001b[0;34m(\u001b[0m\u001b[0mself\u001b[0m\u001b[0;34m,\u001b[0m \u001b[0mstep_fn\u001b[0m\u001b[0;34m)\u001b[0m\u001b[0;34m:\u001b[0m\u001b[0;34m\u001b[0m\u001b[0;34m\u001b[0m\u001b[0m\n",
      "\u001b[0;32m~/opt/anaconda3/envs/tsinghua/lib/python3.6/site-packages/tensorflow_core/python/training/monitored_session.py\u001b[0m in \u001b[0;36mrun\u001b[0;34m(self, fetches, feed_dict, options, run_metadata)\u001b[0m\n\u001b[1;32m   1257\u001b[0m             \u001b[0mfeed_dict\u001b[0m\u001b[0;34m=\u001b[0m\u001b[0mfeed_dict\u001b[0m\u001b[0;34m,\u001b[0m\u001b[0;34m\u001b[0m\u001b[0;34m\u001b[0m\u001b[0m\n\u001b[1;32m   1258\u001b[0m             \u001b[0moptions\u001b[0m\u001b[0;34m=\u001b[0m\u001b[0moptions\u001b[0m\u001b[0;34m,\u001b[0m\u001b[0;34m\u001b[0m\u001b[0;34m\u001b[0m\u001b[0m\n\u001b[0;32m-> 1259\u001b[0;31m             run_metadata=run_metadata)\n\u001b[0m\u001b[1;32m   1260\u001b[0m       \u001b[0;32mexcept\u001b[0m \u001b[0m_PREEMPTION_ERRORS\u001b[0m \u001b[0;32mas\u001b[0m \u001b[0me\u001b[0m\u001b[0;34m:\u001b[0m\u001b[0;34m\u001b[0m\u001b[0;34m\u001b[0m\u001b[0m\n\u001b[1;32m   1261\u001b[0m         logging.info(\n",
      "\u001b[0;32m~/opt/anaconda3/envs/tsinghua/lib/python3.6/site-packages/tensorflow_core/python/training/monitored_session.py\u001b[0m in \u001b[0;36mrun\u001b[0;34m(self, *args, **kwargs)\u001b[0m\n\u001b[1;32m   1343\u001b[0m   \u001b[0;32mdef\u001b[0m \u001b[0mrun\u001b[0m\u001b[0;34m(\u001b[0m\u001b[0mself\u001b[0m\u001b[0;34m,\u001b[0m \u001b[0;34m*\u001b[0m\u001b[0margs\u001b[0m\u001b[0;34m,\u001b[0m \u001b[0;34m**\u001b[0m\u001b[0mkwargs\u001b[0m\u001b[0;34m)\u001b[0m\u001b[0;34m:\u001b[0m\u001b[0;34m\u001b[0m\u001b[0;34m\u001b[0m\u001b[0m\n\u001b[1;32m   1344\u001b[0m     \u001b[0;32mtry\u001b[0m\u001b[0;34m:\u001b[0m\u001b[0;34m\u001b[0m\u001b[0;34m\u001b[0m\u001b[0m\n\u001b[0;32m-> 1345\u001b[0;31m       \u001b[0;32mreturn\u001b[0m \u001b[0mself\u001b[0m\u001b[0;34m.\u001b[0m\u001b[0m_sess\u001b[0m\u001b[0;34m.\u001b[0m\u001b[0mrun\u001b[0m\u001b[0;34m(\u001b[0m\u001b[0;34m*\u001b[0m\u001b[0margs\u001b[0m\u001b[0;34m,\u001b[0m \u001b[0;34m**\u001b[0m\u001b[0mkwargs\u001b[0m\u001b[0;34m)\u001b[0m\u001b[0;34m\u001b[0m\u001b[0;34m\u001b[0m\u001b[0m\n\u001b[0m\u001b[1;32m   1346\u001b[0m     \u001b[0;32mexcept\u001b[0m \u001b[0m_PREEMPTION_ERRORS\u001b[0m\u001b[0;34m:\u001b[0m\u001b[0;34m\u001b[0m\u001b[0;34m\u001b[0m\u001b[0m\n\u001b[1;32m   1347\u001b[0m       \u001b[0;32mraise\u001b[0m\u001b[0;34m\u001b[0m\u001b[0;34m\u001b[0m\u001b[0m\n",
      "\u001b[0;32m~/opt/anaconda3/envs/tsinghua/lib/python3.6/site-packages/tensorflow_core/python/training/monitored_session.py\u001b[0m in \u001b[0;36mrun\u001b[0;34m(self, fetches, feed_dict, options, run_metadata)\u001b[0m\n\u001b[1;32m   1416\u001b[0m         \u001b[0mfeed_dict\u001b[0m\u001b[0;34m=\u001b[0m\u001b[0mfeed_dict\u001b[0m\u001b[0;34m,\u001b[0m\u001b[0;34m\u001b[0m\u001b[0;34m\u001b[0m\u001b[0m\n\u001b[1;32m   1417\u001b[0m         \u001b[0moptions\u001b[0m\u001b[0;34m=\u001b[0m\u001b[0moptions\u001b[0m\u001b[0;34m,\u001b[0m\u001b[0;34m\u001b[0m\u001b[0;34m\u001b[0m\u001b[0m\n\u001b[0;32m-> 1418\u001b[0;31m         run_metadata=run_metadata)\n\u001b[0m\u001b[1;32m   1419\u001b[0m \u001b[0;34m\u001b[0m\u001b[0m\n\u001b[1;32m   1420\u001b[0m     \u001b[0;32mfor\u001b[0m \u001b[0mhook\u001b[0m \u001b[0;32min\u001b[0m \u001b[0mself\u001b[0m\u001b[0;34m.\u001b[0m\u001b[0m_hooks\u001b[0m\u001b[0;34m:\u001b[0m\u001b[0;34m\u001b[0m\u001b[0;34m\u001b[0m\u001b[0m\n",
      "\u001b[0;32m~/opt/anaconda3/envs/tsinghua/lib/python3.6/site-packages/tensorflow_core/python/training/monitored_session.py\u001b[0m in \u001b[0;36mrun\u001b[0;34m(self, *args, **kwargs)\u001b[0m\n\u001b[1;32m   1174\u001b[0m \u001b[0;34m\u001b[0m\u001b[0m\n\u001b[1;32m   1175\u001b[0m   \u001b[0;32mdef\u001b[0m \u001b[0mrun\u001b[0m\u001b[0;34m(\u001b[0m\u001b[0mself\u001b[0m\u001b[0;34m,\u001b[0m \u001b[0;34m*\u001b[0m\u001b[0margs\u001b[0m\u001b[0;34m,\u001b[0m \u001b[0;34m**\u001b[0m\u001b[0mkwargs\u001b[0m\u001b[0;34m)\u001b[0m\u001b[0;34m:\u001b[0m\u001b[0;34m\u001b[0m\u001b[0;34m\u001b[0m\u001b[0m\n\u001b[0;32m-> 1176\u001b[0;31m     \u001b[0;32mreturn\u001b[0m \u001b[0mself\u001b[0m\u001b[0;34m.\u001b[0m\u001b[0m_sess\u001b[0m\u001b[0;34m.\u001b[0m\u001b[0mrun\u001b[0m\u001b[0;34m(\u001b[0m\u001b[0;34m*\u001b[0m\u001b[0margs\u001b[0m\u001b[0;34m,\u001b[0m \u001b[0;34m**\u001b[0m\u001b[0mkwargs\u001b[0m\u001b[0;34m)\u001b[0m\u001b[0;34m\u001b[0m\u001b[0;34m\u001b[0m\u001b[0m\n\u001b[0m\u001b[1;32m   1177\u001b[0m \u001b[0;34m\u001b[0m\u001b[0m\n\u001b[1;32m   1178\u001b[0m   \u001b[0;32mdef\u001b[0m \u001b[0mrun_step_fn\u001b[0m\u001b[0;34m(\u001b[0m\u001b[0mself\u001b[0m\u001b[0;34m,\u001b[0m \u001b[0mstep_fn\u001b[0m\u001b[0;34m,\u001b[0m \u001b[0mraw_session\u001b[0m\u001b[0;34m,\u001b[0m \u001b[0mrun_with_hooks\u001b[0m\u001b[0;34m)\u001b[0m\u001b[0;34m:\u001b[0m\u001b[0;34m\u001b[0m\u001b[0;34m\u001b[0m\u001b[0m\n",
      "\u001b[0;32m~/opt/anaconda3/envs/tsinghua/lib/python3.6/site-packages/tensorflow_core/python/client/session.py\u001b[0m in \u001b[0;36mrun\u001b[0;34m(self, fetches, feed_dict, options, run_metadata)\u001b[0m\n\u001b[1;32m    954\u001b[0m     \u001b[0;32mtry\u001b[0m\u001b[0;34m:\u001b[0m\u001b[0;34m\u001b[0m\u001b[0;34m\u001b[0m\u001b[0m\n\u001b[1;32m    955\u001b[0m       result = self._run(None, fetches, feed_dict, options_ptr,\n\u001b[0;32m--> 956\u001b[0;31m                          run_metadata_ptr)\n\u001b[0m\u001b[1;32m    957\u001b[0m       \u001b[0;32mif\u001b[0m \u001b[0mrun_metadata\u001b[0m\u001b[0;34m:\u001b[0m\u001b[0;34m\u001b[0m\u001b[0;34m\u001b[0m\u001b[0m\n\u001b[1;32m    958\u001b[0m         \u001b[0mproto_data\u001b[0m \u001b[0;34m=\u001b[0m \u001b[0mtf_session\u001b[0m\u001b[0;34m.\u001b[0m\u001b[0mTF_GetBuffer\u001b[0m\u001b[0;34m(\u001b[0m\u001b[0mrun_metadata_ptr\u001b[0m\u001b[0;34m)\u001b[0m\u001b[0;34m\u001b[0m\u001b[0;34m\u001b[0m\u001b[0m\n",
      "\u001b[0;32m~/opt/anaconda3/envs/tsinghua/lib/python3.6/site-packages/tensorflow_core/python/client/session.py\u001b[0m in \u001b[0;36m_run\u001b[0;34m(self, handle, fetches, feed_dict, options, run_metadata)\u001b[0m\n\u001b[1;32m   1178\u001b[0m     \u001b[0;32mif\u001b[0m \u001b[0mfinal_fetches\u001b[0m \u001b[0;32mor\u001b[0m \u001b[0mfinal_targets\u001b[0m \u001b[0;32mor\u001b[0m \u001b[0;34m(\u001b[0m\u001b[0mhandle\u001b[0m \u001b[0;32mand\u001b[0m \u001b[0mfeed_dict_tensor\u001b[0m\u001b[0;34m)\u001b[0m\u001b[0;34m:\u001b[0m\u001b[0;34m\u001b[0m\u001b[0;34m\u001b[0m\u001b[0m\n\u001b[1;32m   1179\u001b[0m       results = self._do_run(handle, final_targets, final_fetches,\n\u001b[0;32m-> 1180\u001b[0;31m                              feed_dict_tensor, options, run_metadata)\n\u001b[0m\u001b[1;32m   1181\u001b[0m     \u001b[0;32melse\u001b[0m\u001b[0;34m:\u001b[0m\u001b[0;34m\u001b[0m\u001b[0;34m\u001b[0m\u001b[0m\n\u001b[1;32m   1182\u001b[0m       \u001b[0mresults\u001b[0m \u001b[0;34m=\u001b[0m \u001b[0;34m[\u001b[0m\u001b[0;34m]\u001b[0m\u001b[0;34m\u001b[0m\u001b[0;34m\u001b[0m\u001b[0m\n",
      "\u001b[0;32m~/opt/anaconda3/envs/tsinghua/lib/python3.6/site-packages/tensorflow_core/python/client/session.py\u001b[0m in \u001b[0;36m_do_run\u001b[0;34m(self, handle, target_list, fetch_list, feed_dict, options, run_metadata)\u001b[0m\n\u001b[1;32m   1357\u001b[0m     \u001b[0;32mif\u001b[0m \u001b[0mhandle\u001b[0m \u001b[0;32mis\u001b[0m \u001b[0;32mNone\u001b[0m\u001b[0;34m:\u001b[0m\u001b[0;34m\u001b[0m\u001b[0;34m\u001b[0m\u001b[0m\n\u001b[1;32m   1358\u001b[0m       return self._do_call(_run_fn, feeds, fetches, targets, options,\n\u001b[0;32m-> 1359\u001b[0;31m                            run_metadata)\n\u001b[0m\u001b[1;32m   1360\u001b[0m     \u001b[0;32melse\u001b[0m\u001b[0;34m:\u001b[0m\u001b[0;34m\u001b[0m\u001b[0;34m\u001b[0m\u001b[0m\n\u001b[1;32m   1361\u001b[0m       \u001b[0;32mreturn\u001b[0m \u001b[0mself\u001b[0m\u001b[0;34m.\u001b[0m\u001b[0m_do_call\u001b[0m\u001b[0;34m(\u001b[0m\u001b[0m_prun_fn\u001b[0m\u001b[0;34m,\u001b[0m \u001b[0mhandle\u001b[0m\u001b[0;34m,\u001b[0m \u001b[0mfeeds\u001b[0m\u001b[0;34m,\u001b[0m \u001b[0mfetches\u001b[0m\u001b[0;34m)\u001b[0m\u001b[0;34m\u001b[0m\u001b[0;34m\u001b[0m\u001b[0m\n",
      "\u001b[0;32m~/opt/anaconda3/envs/tsinghua/lib/python3.6/site-packages/tensorflow_core/python/client/session.py\u001b[0m in \u001b[0;36m_do_call\u001b[0;34m(self, fn, *args)\u001b[0m\n\u001b[1;32m   1363\u001b[0m   \u001b[0;32mdef\u001b[0m \u001b[0m_do_call\u001b[0m\u001b[0;34m(\u001b[0m\u001b[0mself\u001b[0m\u001b[0;34m,\u001b[0m \u001b[0mfn\u001b[0m\u001b[0;34m,\u001b[0m \u001b[0;34m*\u001b[0m\u001b[0margs\u001b[0m\u001b[0;34m)\u001b[0m\u001b[0;34m:\u001b[0m\u001b[0;34m\u001b[0m\u001b[0;34m\u001b[0m\u001b[0m\n\u001b[1;32m   1364\u001b[0m     \u001b[0;32mtry\u001b[0m\u001b[0;34m:\u001b[0m\u001b[0;34m\u001b[0m\u001b[0;34m\u001b[0m\u001b[0m\n\u001b[0;32m-> 1365\u001b[0;31m       \u001b[0;32mreturn\u001b[0m \u001b[0mfn\u001b[0m\u001b[0;34m(\u001b[0m\u001b[0;34m*\u001b[0m\u001b[0margs\u001b[0m\u001b[0;34m)\u001b[0m\u001b[0;34m\u001b[0m\u001b[0;34m\u001b[0m\u001b[0m\n\u001b[0m\u001b[1;32m   1366\u001b[0m     \u001b[0;32mexcept\u001b[0m \u001b[0merrors\u001b[0m\u001b[0;34m.\u001b[0m\u001b[0mOpError\u001b[0m \u001b[0;32mas\u001b[0m \u001b[0me\u001b[0m\u001b[0;34m:\u001b[0m\u001b[0;34m\u001b[0m\u001b[0;34m\u001b[0m\u001b[0m\n\u001b[1;32m   1367\u001b[0m       \u001b[0mmessage\u001b[0m \u001b[0;34m=\u001b[0m \u001b[0mcompat\u001b[0m\u001b[0;34m.\u001b[0m\u001b[0mas_text\u001b[0m\u001b[0;34m(\u001b[0m\u001b[0me\u001b[0m\u001b[0;34m.\u001b[0m\u001b[0mmessage\u001b[0m\u001b[0;34m)\u001b[0m\u001b[0;34m\u001b[0m\u001b[0;34m\u001b[0m\u001b[0m\n",
      "\u001b[0;32m~/opt/anaconda3/envs/tsinghua/lib/python3.6/site-packages/tensorflow_core/python/client/session.py\u001b[0m in \u001b[0;36m_run_fn\u001b[0;34m(feed_dict, fetch_list, target_list, options, run_metadata)\u001b[0m\n\u001b[1;32m   1348\u001b[0m       \u001b[0mself\u001b[0m\u001b[0;34m.\u001b[0m\u001b[0m_extend_graph\u001b[0m\u001b[0;34m(\u001b[0m\u001b[0;34m)\u001b[0m\u001b[0;34m\u001b[0m\u001b[0;34m\u001b[0m\u001b[0m\n\u001b[1;32m   1349\u001b[0m       return self._call_tf_sessionrun(options, feed_dict, fetch_list,\n\u001b[0;32m-> 1350\u001b[0;31m                                       target_list, run_metadata)\n\u001b[0m\u001b[1;32m   1351\u001b[0m \u001b[0;34m\u001b[0m\u001b[0m\n\u001b[1;32m   1352\u001b[0m     \u001b[0;32mdef\u001b[0m \u001b[0m_prun_fn\u001b[0m\u001b[0;34m(\u001b[0m\u001b[0mhandle\u001b[0m\u001b[0;34m,\u001b[0m \u001b[0mfeed_dict\u001b[0m\u001b[0;34m,\u001b[0m \u001b[0mfetch_list\u001b[0m\u001b[0;34m)\u001b[0m\u001b[0;34m:\u001b[0m\u001b[0;34m\u001b[0m\u001b[0;34m\u001b[0m\u001b[0m\n",
      "\u001b[0;32m~/opt/anaconda3/envs/tsinghua/lib/python3.6/site-packages/tensorflow_core/python/client/session.py\u001b[0m in \u001b[0;36m_call_tf_sessionrun\u001b[0;34m(self, options, feed_dict, fetch_list, target_list, run_metadata)\u001b[0m\n\u001b[1;32m   1441\u001b[0m     return tf_session.TF_SessionRun_wrapper(self._session, options, feed_dict,\n\u001b[1;32m   1442\u001b[0m                                             \u001b[0mfetch_list\u001b[0m\u001b[0;34m,\u001b[0m \u001b[0mtarget_list\u001b[0m\u001b[0;34m,\u001b[0m\u001b[0;34m\u001b[0m\u001b[0;34m\u001b[0m\u001b[0m\n\u001b[0;32m-> 1443\u001b[0;31m                                             run_metadata)\n\u001b[0m\u001b[1;32m   1444\u001b[0m \u001b[0;34m\u001b[0m\u001b[0m\n\u001b[1;32m   1445\u001b[0m   \u001b[0;32mdef\u001b[0m \u001b[0m_call_tf_sessionprun\u001b[0m\u001b[0;34m(\u001b[0m\u001b[0mself\u001b[0m\u001b[0;34m,\u001b[0m \u001b[0mhandle\u001b[0m\u001b[0;34m,\u001b[0m \u001b[0mfeed_dict\u001b[0m\u001b[0;34m,\u001b[0m \u001b[0mfetch_list\u001b[0m\u001b[0;34m)\u001b[0m\u001b[0;34m:\u001b[0m\u001b[0;34m\u001b[0m\u001b[0;34m\u001b[0m\u001b[0m\n",
      "\u001b[0;31mKeyboardInterrupt\u001b[0m: "
     ]
    }
   ],
   "source": [
    "# m.train(input_fn=lambda: input_fn(train),steps=FLAGS.train_steps)\n",
    "m.train(input_fn=lambda: input_fn(train),steps=2000)"
   ]
  },
  {
   "cell_type": "code",
   "execution_count": 16,
   "id": "8af6e840",
   "metadata": {},
   "outputs": [
    {
     "name": "stdout",
     "output_type": "stream",
     "text": [
      "INFO:tensorflow:Calling model_fn.\n",
      "WARNING:tensorflow:Trapezoidal rule is known to produce incorrect PR-AUCs; please switch to \"careful_interpolation\" instead.\n",
      "WARNING:tensorflow:Trapezoidal rule is known to produce incorrect PR-AUCs; please switch to \"careful_interpolation\" instead.\n",
      "INFO:tensorflow:Done calling model_fn.\n",
      "INFO:tensorflow:Starting evaluation at 2022-06-24T12:29:07Z\n",
      "INFO:tensorflow:Graph was finalized.\n",
      "INFO:tensorflow:Restoring parameters from ./modelV0624\\model.ckpt-1665\n",
      "INFO:tensorflow:Running local_init_op.\n",
      "INFO:tensorflow:Done running local_init_op.\n",
      "INFO:tensorflow:Evaluation [1/1]\n",
      "INFO:tensorflow:Finished evaluation at 2022-06-24-12:29:14\n",
      "INFO:tensorflow:Saving dict for global step 1665: accuracy = 0.8886833, accuracy_baseline = 0.5, auc = 0.92581105, auc_precision_recall = 0.9345231, average_loss = 0.6334012, global_step = 1665, label/mean = 0.5, loss = 8216.48, precision = 0.8909739, prediction/mean = 0.49482727, recall = 0.8857539\n",
      "INFO:tensorflow:Saving 'checkpoint_path' summary for global step 1665: ./modelV0624\\model.ckpt-1665\n"
     ]
    }
   ],
   "source": [
    "results = m.evaluate(input_fn=lambda: input_fn(test), steps=1, checkpoint_path = './modelV0624\\model.ckpt-1665')"
   ]
  },
  {
   "cell_type": "code",
   "execution_count": 40,
   "id": "d6b86722",
   "metadata": {},
   "outputs": [],
   "source": [
    "p = m.predict(input_fn=lambda: input_fn(test))"
   ]
  },
  {
   "cell_type": "code",
   "execution_count": 41,
   "id": "1ae1843c",
   "metadata": {},
   "outputs": [
    {
     "name": "stdout",
     "output_type": "stream",
     "text": [
      "WARNING:tensorflow:Input graph does not use tf.data.Dataset or contain a QueueRunner. That means predict yields forever. This is probably a mistake.\n"
     ]
    },
    {
     "name": "stderr",
     "output_type": "stream",
     "text": [
      "WARNING:tensorflow:Input graph does not use tf.data.Dataset or contain a QueueRunner. That means predict yields forever. This is probably a mistake.\n"
     ]
    },
    {
     "name": "stdout",
     "output_type": "stream",
     "text": [
      "INFO:tensorflow:Calling model_fn.\n"
     ]
    },
    {
     "name": "stderr",
     "output_type": "stream",
     "text": [
      "INFO:tensorflow:Calling model_fn.\n"
     ]
    },
    {
     "name": "stdout",
     "output_type": "stream",
     "text": [
      "INFO:tensorflow:Done calling model_fn.\n"
     ]
    },
    {
     "name": "stderr",
     "output_type": "stream",
     "text": [
      "INFO:tensorflow:Done calling model_fn.\n"
     ]
    },
    {
     "name": "stdout",
     "output_type": "stream",
     "text": [
      "INFO:tensorflow:Graph was finalized.\n"
     ]
    },
    {
     "name": "stderr",
     "output_type": "stream",
     "text": [
      "INFO:tensorflow:Graph was finalized.\n"
     ]
    },
    {
     "name": "stdout",
     "output_type": "stream",
     "text": [
      "INFO:tensorflow:Restoring parameters from ./modelV06233\\model.ckpt-9516\n"
     ]
    },
    {
     "name": "stderr",
     "output_type": "stream",
     "text": [
      "INFO:tensorflow:Restoring parameters from ./modelV06233\\model.ckpt-9516\n"
     ]
    },
    {
     "name": "stdout",
     "output_type": "stream",
     "text": [
      "INFO:tensorflow:Running local_init_op.\n"
     ]
    },
    {
     "name": "stderr",
     "output_type": "stream",
     "text": [
      "INFO:tensorflow:Running local_init_op.\n"
     ]
    },
    {
     "name": "stdout",
     "output_type": "stream",
     "text": [
      "INFO:tensorflow:Done running local_init_op.\n"
     ]
    },
    {
     "name": "stderr",
     "output_type": "stream",
     "text": [
      "INFO:tensorflow:Done running local_init_op.\n"
     ]
    }
   ],
   "source": [
    "count = 0\n",
    "pred = []\n",
    "for i in p:\n",
    "    if count == len(test):\n",
    "        break\n",
    "    pred.append(i['probabilities'])\n",
    "    count += 1"
   ]
  },
  {
   "cell_type": "code",
   "execution_count": 49,
   "id": "b7704449",
   "metadata": {},
   "outputs": [
    {
     "data": {
      "text/html": [
       "<div>\n",
       "<style scoped>\n",
       "    .dataframe tbody tr th:only-of-type {\n",
       "        vertical-align: middle;\n",
       "    }\n",
       "\n",
       "    .dataframe tbody tr th {\n",
       "        vertical-align: top;\n",
       "    }\n",
       "\n",
       "    .dataframe thead th {\n",
       "        text-align: right;\n",
       "    }\n",
       "</style>\n",
       "<table border=\"1\" class=\"dataframe\">\n",
       "  <thead>\n",
       "    <tr style=\"text-align: right;\">\n",
       "      <th></th>\n",
       "      <th>index</th>\n",
       "      <th>0</th>\n",
       "      <th>1</th>\n",
       "    </tr>\n",
       "  </thead>\n",
       "  <tbody>\n",
       "    <tr>\n",
       "      <th>0</th>\n",
       "      <td>3108</td>\n",
       "      <td>2.517376e-16</td>\n",
       "      <td>1.000000e+00</td>\n",
       "    </tr>\n",
       "    <tr>\n",
       "      <th>1</th>\n",
       "      <td>2456</td>\n",
       "      <td>5.851714e-16</td>\n",
       "      <td>1.000000e+00</td>\n",
       "    </tr>\n",
       "    <tr>\n",
       "      <th>2</th>\n",
       "      <td>2446</td>\n",
       "      <td>4.332237e-14</td>\n",
       "      <td>1.000000e+00</td>\n",
       "    </tr>\n",
       "    <tr>\n",
       "      <th>3</th>\n",
       "      <td>7174</td>\n",
       "      <td>9.636986e-14</td>\n",
       "      <td>1.000000e+00</td>\n",
       "    </tr>\n",
       "    <tr>\n",
       "      <th>4</th>\n",
       "      <td>3754</td>\n",
       "      <td>2.118974e-13</td>\n",
       "      <td>1.000000e+00</td>\n",
       "    </tr>\n",
       "    <tr>\n",
       "      <th>...</th>\n",
       "      <td>...</td>\n",
       "      <td>...</td>\n",
       "      <td>...</td>\n",
       "    </tr>\n",
       "    <tr>\n",
       "      <th>12967</th>\n",
       "      <td>817</td>\n",
       "      <td>1.000000e+00</td>\n",
       "      <td>2.259650e-08</td>\n",
       "    </tr>\n",
       "    <tr>\n",
       "      <th>12968</th>\n",
       "      <td>2451</td>\n",
       "      <td>1.000000e+00</td>\n",
       "      <td>1.444216e-09</td>\n",
       "    </tr>\n",
       "    <tr>\n",
       "      <th>12969</th>\n",
       "      <td>5627</td>\n",
       "      <td>1.000000e+00</td>\n",
       "      <td>7.121027e-09</td>\n",
       "    </tr>\n",
       "    <tr>\n",
       "      <th>12970</th>\n",
       "      <td>559</td>\n",
       "      <td>1.000000e+00</td>\n",
       "      <td>1.223007e-08</td>\n",
       "    </tr>\n",
       "    <tr>\n",
       "      <th>12971</th>\n",
       "      <td>4558</td>\n",
       "      <td>1.000000e+00</td>\n",
       "      <td>2.740787e-08</td>\n",
       "    </tr>\n",
       "  </tbody>\n",
       "</table>\n",
       "<p>12972 rows × 3 columns</p>\n",
       "</div>"
      ],
      "text/plain": [
       "       index             0             1\n",
       "0       3108  2.517376e-16  1.000000e+00\n",
       "1       2456  5.851714e-16  1.000000e+00\n",
       "2       2446  4.332237e-14  1.000000e+00\n",
       "3       7174  9.636986e-14  1.000000e+00\n",
       "4       3754  2.118974e-13  1.000000e+00\n",
       "...      ...           ...           ...\n",
       "12967    817  1.000000e+00  2.259650e-08\n",
       "12968   2451  1.000000e+00  1.444216e-09\n",
       "12969   5627  1.000000e+00  7.121027e-09\n",
       "12970    559  1.000000e+00  1.223007e-08\n",
       "12971   4558  1.000000e+00  2.740787e-08\n",
       "\n",
       "[12972 rows x 3 columns]"
      ]
     },
     "execution_count": 49,
     "metadata": {},
     "output_type": "execute_result"
    }
   ],
   "source": [
    "pd.DataFrame(pred).sort_values(by = 0, ascending = True).reset_index()"
   ]
  }
 ],
 "metadata": {
  "kernelspec": {
   "display_name": "Python 3.6.13 ('tsinghua')",
   "language": "python",
   "name": "python3"
  },
  "language_info": {
   "codemirror_mode": {
    "name": "ipython",
    "version": 3
   },
   "file_extension": ".py",
   "mimetype": "text/x-python",
   "name": "python",
   "nbconvert_exporter": "python",
   "pygments_lexer": "ipython3",
   "version": "3.6.13"
  },
  "vscode": {
   "interpreter": {
    "hash": "0a7b5a4626d32b8252d3636695c99eb70559e5b3a83ef0cdb9ac852ddf775b11"
   }
  }
 },
 "nbformat": 4,
 "nbformat_minor": 5
}
